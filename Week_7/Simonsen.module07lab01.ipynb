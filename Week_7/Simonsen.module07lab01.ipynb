{
 "cells": [
  {
   "cell_type": "markdown",
   "id": "5b5258fe",
   "metadata": {},
   "source": [
    "# Assignment 7\n",
    "### Steven Simonsen\n",
    "### 4/26/24"
   ]
  },
  {
   "cell_type": "markdown",
   "id": "c0ebfbde",
   "metadata": {},
   "source": [
    "## Question 1\n",
    "A palindrome is a word, phrase, or sequence that is the same spelled forward as it is backwards.\n",
    "Write a function using a for-loop to determine if a string is a palindrome. Your function should only have one argument. "
   ]
  },
  {
   "cell_type": "code",
   "execution_count": 15,
   "id": "75b35247",
   "metadata": {},
   "outputs": [],
   "source": [
    "def palindrome(word): #function definition, no default value one string argument\n",
    "     #code block that converts all string to lower, eliminates space, iterates over the word, appends to list\n",
    "    word=word.lower().replace(\" \",\"\")\n",
    "    forward=[]\n",
    "    for i in word:\n",
    "        forward.append(i)\n",
    "    #If statement compares forward and backwards spelling and prints whether word is a palindrome    \n",
    "    if(forward == list(reversed(forward))):\n",
    "        print('The selected word or phrase is a palindrome')\n",
    "    else:\n",
    "        print('The selected word or phrase is not a palindrome')"
   ]
  },
  {
   "cell_type": "code",
   "execution_count": 16,
   "id": "daff8ab7-25e0-42c0-ba8a-5f5ea86adad4",
   "metadata": {},
   "outputs": [
    {
     "name": "stdout",
     "output_type": "stream",
     "text": [
      "The selected word or phrase is a palindrome\n"
     ]
    }
   ],
   "source": [
    "palindrome(word='Racecar')"
   ]
  },
  {
   "cell_type": "code",
   "execution_count": 17,
   "id": "a9c377dc-598c-4ac3-ae56-56b6a365b2a1",
   "metadata": {},
   "outputs": [
    {
     "name": "stdout",
     "output_type": "stream",
     "text": [
      "The selected word or phrase is a palindrome\n"
     ]
    }
   ],
   "source": [
    "palindrome(word='racecar')"
   ]
  },
  {
   "cell_type": "code",
   "execution_count": 18,
   "id": "65546d2e-22d7-4e3a-b115-b9b7e3b330e9",
   "metadata": {},
   "outputs": [
    {
     "name": "stdout",
     "output_type": "stream",
     "text": [
      "The selected word or phrase is a palindrome\n"
     ]
    }
   ],
   "source": [
    "palindrome(word='Race car')"
   ]
  },
  {
   "cell_type": "code",
   "execution_count": 19,
   "id": "f66ac799-c346-4fb9-ad94-8a62575c5d43",
   "metadata": {},
   "outputs": [
    {
     "name": "stdout",
     "output_type": "stream",
     "text": [
      "The selected word or phrase is not a palindrome\n"
     ]
    }
   ],
   "source": [
    "palindrome(word='data')"
   ]
  },
  {
   "cell_type": "markdown",
   "id": "c6916bad",
   "metadata": {},
   "source": [
    "## Question 2\n",
    "Write a function using a while-loop to determine if a string is a palindrome. Your function should only have one argument. "
   ]
  },
  {
   "cell_type": "code",
   "execution_count": 1,
   "id": "c0f1525d",
   "metadata": {},
   "outputs": [],
   "source": [
    "def wpalendrome(word): #function definition, no default value one string argument\n",
    "     #code block converts all string to lower, eliminates space, creates reverse version of the string\n",
    "    clean_word=word.lower().replace(\" \",\"\")\n",
    "    reversed_word=clean_word[::-1]\n",
    "    #if the forward version doesn't equal reverse version, print no palendrome then break to exit loop.\n",
    "    #Otherwise, print that it is a palendrome\n",
    "    while clean_word != reversed_word:\n",
    "        print(\"The selected word or phrase is not a palindrome\")\n",
    "        break\n",
    "    else:\n",
    "        print(\"The selected word or phrase is a palindrome\")"
   ]
  },
  {
   "cell_type": "code",
   "execution_count": 2,
   "id": "7bfe3888-b32e-48e0-b2c0-39670582dcd3",
   "metadata": {},
   "outputs": [
    {
     "name": "stdout",
     "output_type": "stream",
     "text": [
      "The selected word or phrase is a palindrome\n"
     ]
    }
   ],
   "source": [
    "wpalendrome(word='racecar')"
   ]
  },
  {
   "cell_type": "code",
   "execution_count": 3,
   "id": "30db459d-5833-4854-9f2a-5eccdf1e9dd2",
   "metadata": {},
   "outputs": [
    {
     "name": "stdout",
     "output_type": "stream",
     "text": [
      "The selected word or phrase is a palindrome\n"
     ]
    }
   ],
   "source": [
    "wpalendrome(word='Racecar')"
   ]
  },
  {
   "cell_type": "code",
   "execution_count": 4,
   "id": "c0bec50e-3648-4f22-bd1d-ae33ae15f484",
   "metadata": {},
   "outputs": [
    {
     "name": "stdout",
     "output_type": "stream",
     "text": [
      "The selected word or phrase is a palindrome\n"
     ]
    }
   ],
   "source": [
    "wpalendrome(word='Race car')"
   ]
  },
  {
   "cell_type": "code",
   "execution_count": 5,
   "id": "16c702d3-df69-4ddd-8ade-93704b071a32",
   "metadata": {},
   "outputs": [
    {
     "name": "stdout",
     "output_type": "stream",
     "text": [
      "The selected word or phrase is not a palindrome\n"
     ]
    }
   ],
   "source": [
    "wpalendrome(word='Steven')"
   ]
  },
  {
   "cell_type": "markdown",
   "id": "d85c8321",
   "metadata": {},
   "source": [
    "## Question 3\n",
    "Two Sum - Write a function named two_sum()\n",
    "Given a vector of integers nums and an integer target, return indices of the two numbers such that they add\n",
    "up to target. You may assume that each input would have exactly one solution, and you may not use the same element\n",
    "twice. You can return the answer in any order.Use defaultdict and hash maps/tables to complete this problem. \n",
    "\n",
    "Example 1:\n",
    "Input: `nums = [2,7,11,15]`, target = 9 Output: `[0,1]` Explanation: Because `nums[0] + nums[1] == 9`, we\n",
    "return `[0, 1]`. \n",
    "\n",
    "Example 2:\n",
    "Input: `nums = [3,2,4]`, `target = 6 Output: [1,2]` \n",
    "\n",
    "Example 3:\n",
    "Input: `nums = [3,3]`, `target = 6 Output: [0,1]`\n",
    "\n",
    "Constraints:\n",
    "`2 <= nums.length <= 104 –109 <= nums[i] <= 109 –109 <= target <= 109` Only one valid answer exists."
   ]
  },
  {
   "cell_type": "code",
   "execution_count": 27,
   "id": "46a63aa3",
   "metadata": {},
   "outputs": [],
   "source": [
    "list_1 = [2,7,11,15]\n",
    "target=9"
   ]
  },
  {
   "cell_type": "code",
   "execution_count": 28,
   "id": "767d0be4-4579-4feb-89eb-b465a2f21d1d",
   "metadata": {},
   "outputs": [],
   "source": [
    "from collections import defaultdict "
   ]
  },
  {
   "cell_type": "code",
   "execution_count": 29,
   "id": "85bb26d0-00eb-495a-ab08-b6142f761090",
   "metadata": {},
   "outputs": [],
   "source": [
    "def two_sum(list_1, target): #function definition, no default value and two arguments\n",
    "    #Code block - assign hashmap to 0, iterate over list. Add value to hash if not already present\n",
    "    hash_map=defaultdict(int)\n",
    "    work_on = 0\n",
    "    for i, num in enumerate(list_1):\n",
    "        work_on += 1\n",
    "        complement = target - num\n",
    "        if complement in hash_map:\n",
    "            #Print complement which is index in hash and i which is orig index.\n",
    "            print(hash_map[complement],i)\n",
    "        else:\n",
    "            hash_map[num]=i"
   ]
  },
  {
   "cell_type": "code",
   "execution_count": 30,
   "id": "9acd2c09-18f5-409c-b998-41e000393064",
   "metadata": {},
   "outputs": [
    {
     "name": "stdout",
     "output_type": "stream",
     "text": [
      "0 1\n"
     ]
    }
   ],
   "source": [
    "two_sum(list_1, target)"
   ]
  },
  {
   "cell_type": "code",
   "execution_count": 32,
   "id": "b9a455e8-8184-4e97-a6c6-9d65ba7d1bb3",
   "metadata": {},
   "outputs": [
    {
     "name": "stdout",
     "output_type": "stream",
     "text": [
      "1 2\n"
     ]
    }
   ],
   "source": [
    "list_1 = [3,2,4]\n",
    "target=6\n",
    "two_sum(list_1, target)"
   ]
  },
  {
   "cell_type": "code",
   "execution_count": 33,
   "id": "55006eb8-72f3-4983-9d12-85f08d6ad443",
   "metadata": {},
   "outputs": [
    {
     "name": "stdout",
     "output_type": "stream",
     "text": [
      "0 1\n"
     ]
    }
   ],
   "source": [
    "list_1 = [3,3]\n",
    "target=6\n",
    "two_sum(list_1, target)"
   ]
  },
  {
   "cell_type": "markdown",
   "id": "9ec37669",
   "metadata": {},
   "source": [
    "## Question 4\n",
    "How is a negative index used in Python? Show an example"
   ]
  },
  {
   "cell_type": "code",
   "execution_count": 35,
   "id": "3c646d4e",
   "metadata": {},
   "outputs": [
    {
     "data": {
      "text/plain": [
       "'In Python, negative indices are used to genearlly to iterate in reverse order.'"
      ]
     },
     "execution_count": 35,
     "metadata": {},
     "output_type": "execute_result"
    }
   ],
   "source": [
    "\"\"\"In Python, negative indices are used to genearlly to iterate in reverse order.\"\"\""
   ]
  },
  {
   "cell_type": "code",
   "execution_count": 6,
   "id": "7cc27f17-009b-4c7a-b373-53ad0953d8ff",
   "metadata": {},
   "outputs": [
    {
     "data": {
      "text/plain": [
       "'\\nclean_word=word.lower().replace(\" \",\"\")\\n    reversed_word=clean_word[::-1]\\n'"
      ]
     },
     "execution_count": 6,
     "metadata": {},
     "output_type": "execute_result"
    }
   ],
   "source": [
    "\"\"\"\n",
    "Here is an example as used from Question 2 above. The reversed word variable uses the syntax [::-1], whichs slices in reverse order.\n",
    "- The first argument indicates the starting index where the slice begins\n",
    "- The second argument indicates the ending index where the slice ends\n",
    "- The third argument (-1 in this example), is the step size. Typically this is defaulted to 1, but -1 indicates that we want to reverse the order of the \n",
    "  iteration sequence.\n",
    "\"\"\"\n",
    "\"\"\"\n",
    "clean_word=word.lower().replace(\" \",\"\")\n",
    "    reversed_word=clean_word[::-1]\n",
    "\"\"\""
   ]
  },
  {
   "cell_type": "markdown",
   "id": "3128782b",
   "metadata": {},
   "source": [
    "## Question 5\n",
    "Check if two given strings are isomorphic to each other. Two strings str1 and str2 are called isomorphic if there is a one-to-one mapping possible for every character of str1 to every character of str2. And all occurrences of every character in ‘str1’ map to the same character in ‘str2’.\n",
    "\n",
    "`Input:  str1 = \"aab\", str2 = \"xxy\"`\n",
    "\n",
    "`Output: True`\n",
    "\n",
    "`'a' is mapped to 'x' and 'b' is mapped to 'y'.`\n",
    "\n",
    "`Input:  str1 = \"aab\", str2 = \"xyz\"`\n",
    "\n",
    "`Output: False`\n",
    "\n",
    "`One occurrence of 'a' in str1 has 'x' in str2 and other occurrence of 'a' has 'y'.`\n",
    "\n",
    "A Simple Solution is to consider every character of ‘str1’ and check if all occurrences of it map to the same character in ‘str2’. The time complexity of this solution is O(n*n).\n",
    "\n",
    "An Efficient Solution can solve this problem in O(n) time. The idea is to create an array to store mappings of processed characters. \n"
   ]
  },
  {
   "cell_type": "code",
   "execution_count": 8,
   "id": "53f3a149",
   "metadata": {},
   "outputs": [],
   "source": [
    "#I did a lot of research on this, and found a very interesting way to solve by organizing the values into sets, using ord() to convert\n",
    "#the unicode character into the int equivalent, and then zip to iterate over each character in both strings and combine into a tuple.\n",
    "#If the difference is equal to 1, then the values are isomorphic. If greater than one difference, not isomporphic.\n"
   ]
  },
  {
   "cell_type": "code",
   "execution_count": 38,
   "id": "177e099c",
   "metadata": {},
   "outputs": [],
   "source": [
    "def isomorph(str1, str2): #function definition, no default value and two arguments\n",
    "    #Code block 1 - check length of string to ensure equality\n",
    "    if len(str1) != len(str2):\n",
    "        return False\n",
    "    \n",
    "    #Code block 2 - create set from strings, iterate over both using zip and each character within strings.\n",
    "    #Ord converts unicode to integer values. Differences should only be length 1 if isomorphic\n",
    "    differences = set(ord(char1) - ord(char2) for char1, char2 in zip(str1, str2))\n",
    "    return len(differences) == 1 "
   ]
  },
  {
   "cell_type": "code",
   "execution_count": 39,
   "id": "0ebc629d-51cf-4d2d-b281-e5c3fd0e19c3",
   "metadata": {},
   "outputs": [
    {
     "name": "stdout",
     "output_type": "stream",
     "text": [
      "True\n"
     ]
    }
   ],
   "source": [
    "print(isomorph(\"aab\", \"xxy\"))"
   ]
  },
  {
   "cell_type": "code",
   "execution_count": 41,
   "id": "32d06855-3809-4bcc-a8d3-7048b71df3d0",
   "metadata": {},
   "outputs": [
    {
     "name": "stdout",
     "output_type": "stream",
     "text": [
      "False\n"
     ]
    }
   ],
   "source": [
    "print(isomorph(\"aab\", \"xyz\"))"
   ]
  }
 ],
 "metadata": {
  "kernelspec": {
   "display_name": "Python 3 (ipykernel)",
   "language": "python",
   "name": "python3"
  },
  "language_info": {
   "codemirror_mode": {
    "name": "ipython",
    "version": 3
   },
   "file_extension": ".py",
   "mimetype": "text/x-python",
   "name": "python",
   "nbconvert_exporter": "python",
   "pygments_lexer": "ipython3",
   "version": "3.11.8"
  }
 },
 "nbformat": 4,
 "nbformat_minor": 5
}
