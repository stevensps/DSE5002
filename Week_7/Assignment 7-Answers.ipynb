{
 "cells": [
  {
   "cell_type": "markdown",
   "id": "5b5258fe",
   "metadata": {},
   "source": [
    "# Assignment 7\n",
    "### Your Name Here\n",
    "### Date"
   ]
  },
  {
   "cell_type": "markdown",
   "id": "c0ebfbde",
   "metadata": {},
   "source": [
    "## Question 1\n",
    "A palindrome is a word, phrase, or sequence that is the same spelled forward as it is backwards.\n",
    "Write a function using a for-loop to determine if a string is a palindrome. Your function should only have one argument. "
   ]
  },
  {
   "cell_type": "code",
   "execution_count": 1,
   "id": "75b35247",
   "metadata": {},
   "outputs": [],
   "source": [
    "# your code here\n",
    "def palindrome(string):\n",
    "    string = string.lower().replace(' ','')\n",
    "    reversed_string = ''.join(reversed(string))\n",
    "    return string == reversed_string\n",
    "\n"
   ]
  },
  {
   "cell_type": "code",
   "execution_count": 2,
   "id": "73f85a72",
   "metadata": {},
   "outputs": [
    {
     "data": {
      "text/plain": [
       "True"
      ]
     },
     "execution_count": 2,
     "metadata": {},
     "output_type": "execute_result"
    }
   ],
   "source": [
    "string = 'Was it a car or a cat I saw'\n",
    "palindrome(string)"
   ]
  },
  {
   "cell_type": "code",
   "execution_count": 3,
   "id": "2cca320a",
   "metadata": {},
   "outputs": [
    {
     "data": {
      "text/plain": [
       "False"
      ]
     },
     "execution_count": 3,
     "metadata": {},
     "output_type": "execute_result"
    }
   ],
   "source": [
    "string = \"Abra kadabra alakazam\"\n",
    "palindrome(string)"
   ]
  },
  {
   "cell_type": "markdown",
   "id": "c6916bad",
   "metadata": {},
   "source": [
    "## Question 2\n",
    "Write a function using a while-loop to determine if a string is a palindrome. Your function should only have one argument. "
   ]
  },
  {
   "cell_type": "code",
   "execution_count": 4,
   "id": "c0f1525d",
   "metadata": {},
   "outputs": [],
   "source": [
    "# your code here\n",
    "def palindrome(string):\n",
    "    string = string.lower().replace(' ','')\n",
    "    first = 0 \n",
    "    last = len(string) - 1\n",
    "    while(first < last):\n",
    "        if(string[first] == string[last]):\n",
    "            first += 1\n",
    "            last -= 1\n",
    "        else:\n",
    "            return False\n",
    "    return True\n",
    "    \n"
   ]
  },
  {
   "cell_type": "code",
   "execution_count": 5,
   "id": "e48716de",
   "metadata": {},
   "outputs": [
    {
     "data": {
      "text/plain": [
       "True"
      ]
     },
     "execution_count": 5,
     "metadata": {},
     "output_type": "execute_result"
    }
   ],
   "source": [
    "string = 'Was it a car or a cat I saw'\n",
    "palindrome(string)"
   ]
  },
  {
   "cell_type": "code",
   "execution_count": 6,
   "id": "211db33f",
   "metadata": {},
   "outputs": [
    {
     "data": {
      "text/plain": [
       "False"
      ]
     },
     "execution_count": 6,
     "metadata": {},
     "output_type": "execute_result"
    }
   ],
   "source": [
    "string = \"Abra kadabra alakazam\"\n",
    "palindrome(string)"
   ]
  },
  {
   "cell_type": "markdown",
   "id": "d85c8321",
   "metadata": {},
   "source": [
    "## Question 3\n",
    "Two Sum - Write a function named two_sum()\n",
    "Given a vector of integers nums and an integer target, return indices of the two numbers such that they add\n",
    "up to target. You may assume that each input would have exactly one solution, and you may not use the same element\n",
    "twice. You can return the answer in any order.Use defaultdict and hash maps/tables to complete this problem. \n",
    "\n",
    "Example 1:\n",
    "Input: `nums = [2,7,11,15]`, target = 9 Output: `[0,1]` Explanation: Because `nums[0] + nums[1] == 9`, we\n",
    "return `[0, 1]`. \n",
    "\n",
    "Example 2:\n",
    "Input: `nums = [3,2,4]`, `target = 6 Output: [1,2]` \n",
    "\n",
    "Example 3:\n",
    "Input: `nums = [3,3]`, `target = 6 Output: [0,1]`\n",
    "\n",
    "Constraints:\n",
    "`2 <= nums.length <= 104 –109 <= nums[i] <= 109 –109 <= target <= 109` Only one valid answer exists."
   ]
  },
  {
   "cell_type": "code",
   "execution_count": 19,
   "id": "46a63aa3",
   "metadata": {},
   "outputs": [],
   "source": [
    "# your code here\n",
    "def two_sum(nums,target):\n",
    "    h_map = {}\n",
    "    for i, num in enumerate(nums):\n",
    "        compliment = target - num\n",
    "        if compliment in h_map:\n",
    "            print(h_map[compliment], i)\n",
    "        else:\n",
    "            h_map[num] = i\n"
   ]
  },
  {
   "cell_type": "code",
   "execution_count": 21,
   "id": "e1b751c5",
   "metadata": {},
   "outputs": [
    {
     "name": "stdout",
     "output_type": "stream",
     "text": [
      "0 1\n",
      "4 5\n"
     ]
    }
   ],
   "source": [
    "nums = [2,7,11,15,3,6]\n",
    "target = 9\n",
    "two_sum(nums,target)"
   ]
  },
  {
   "cell_type": "markdown",
   "id": "9ec37669",
   "metadata": {},
   "source": [
    "## Question 4\n",
    "How is a negative index used in Python? Show an example"
   ]
  },
  {
   "cell_type": "markdown",
   "id": "5f6ecf17",
   "metadata": {},
   "source": [
    "\n",
    "You can use negative indexing to iterate in reverse order. Generally it is used to extract elements from right to left. "
   ]
  },
  {
   "cell_type": "markdown",
   "id": "3128782b",
   "metadata": {},
   "source": [
    "## Question 5\n",
    "Check if two given strings are isomorphic to each other. Two strings str1 and str2 are called isomorphic if there is a one-to-one mapping possible for every character of str1 to every character of str2. And all occurrences of every character in ‘str1’ map to the same character in ‘str2’.\n",
    "\n",
    "`Input:  str1 = \"aab\", str2 = \"xxy\"`\n",
    "\n",
    "`Output: True`\n",
    "\n",
    "`'a' is mapped to 'x' and 'b' is mapped to 'y'.`\n",
    "\n",
    "`Input:  str1 = \"aab\", str2 = \"xyz\"`\n",
    "\n",
    "`Output: False`\n",
    "\n",
    "`One occurrence of 'a' in str1 has 'x' in str2 and other occurrence of 'a' has 'y'.`\n",
    "\n",
    "A Simple Solution is to consider every character of ‘str1’ and check if all occurrences of it map to the same character in ‘str2’. The time complexity of this solution is O(n*n).\n",
    "\n",
    "An Efficient Solution can solve this problem in O(n) time. The idea is to create an array to store mappings of processed characters. \n"
   ]
  },
  {
   "cell_type": "code",
   "execution_count": 22,
   "id": "53f3a149",
   "metadata": {},
   "outputs": [],
   "source": [
    "# your code here\n",
    "def is_isomporphic(str1, str2):\n",
    "    char_map = dict()\n",
    "    character = None\n",
    "    for i, letter in enumerate(str1):\n",
    "        if letter in char_map:\n",
    "            character = char_map[letter]\n",
    "            if character != str2[i]:\n",
    "                return False\n",
    "        elif str2[i] not in char_map.values():\n",
    "            char_map[letter] = str2[i]\n",
    "        else:\n",
    "            return False\n",
    "    return True"
   ]
  },
  {
   "cell_type": "code",
   "execution_count": 25,
   "id": "177e099c",
   "metadata": {},
   "outputs": [],
   "source": [
    "str1 = \"aab\"\n",
    "str2 = \"xxy\""
   ]
  },
  {
   "cell_type": "code",
   "execution_count": 26,
   "id": "24bd3e67",
   "metadata": {},
   "outputs": [
    {
     "data": {
      "text/plain": [
       "True"
      ]
     },
     "execution_count": 26,
     "metadata": {},
     "output_type": "execute_result"
    }
   ],
   "source": [
    "is_isomporphic(str1, str2)"
   ]
  },
  {
   "cell_type": "code",
   "execution_count": null,
   "id": "12879985",
   "metadata": {},
   "outputs": [],
   "source": []
  }
 ],
 "metadata": {
  "kernelspec": {
   "display_name": "Python 3 (ipykernel)",
   "language": "python",
   "name": "python3"
  },
  "language_info": {
   "codemirror_mode": {
    "name": "ipython",
    "version": 3
   },
   "file_extension": ".py",
   "mimetype": "text/x-python",
   "name": "python",
   "nbconvert_exporter": "python",
   "pygments_lexer": "ipython3",
   "version": "3.11.8"
  }
 },
 "nbformat": 4,
 "nbformat_minor": 5
}
