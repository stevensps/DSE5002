{
 "cells": [
  {
   "cell_type": "markdown",
   "id": "88671a38",
   "metadata": {},
   "source": [
    "# Homework 5\n",
    "### Jeremiah Lowhorn\n",
    "### 8/2/2023"
   ]
  },
  {
   "cell_type": "markdown",
   "id": "822c38b0",
   "metadata": {},
   "source": [
    "Answer each question by writing the Python code needed to perform the task. Please only use the libraries requested in each problem. "
   ]
  },
  {
   "cell_type": "markdown",
   "id": "c25d3684",
   "metadata": {},
   "source": [
    "### Problem 1\n",
    "Load the interest_inflation data from the statsmodels library as a pandas data frame assigned to `df`. Use the function `df.head()` to view the first 5 rows of the data. Notice the first observation is indexed at 0. Unlike R, Python is a 0 based index language which means when you iterate or wish to view the first observation of a data object it will be at the index 0. \n",
    "\n",
    "What do the columns `Dp` and `R` represent? (You can find this using the documentation)\n"
   ]
  },
  {
   "cell_type": "code",
   "execution_count": 4,
   "id": "723f0215",
   "metadata": {},
   "outputs": [
    {
     "name": "stdout",
     "output_type": "stream",
     "text": [
      "8\n",
      "14\n"
     ]
    }
   ],
   "source": [
    "# your code here\n",
    "x = 8 + 6\n",
    "print(8)\n",
    "print(x)"
   ]
  },
  {
   "cell_type": "markdown",
   "id": "724b3e2c",
   "metadata": {},
   "source": [
    "### Problem 2\n",
    "Import scipy as sp and numpy as np. Using the `mean()` and `var()` function from scipy, validate that both functions equate to their numpy counterparts against the column `Dp`.\n",
    "\n",
    "By using the scipy library you should receive a warning message. What does the warning message indicate? Which function should you use going forward? "
   ]
  },
  {
   "cell_type": "code",
   "execution_count": 7,
   "id": "83dc8d7f",
   "metadata": {},
   "outputs": [],
   "source": [
    "# your code here\n"
   ]
  },
  {
   "cell_type": "markdown",
   "id": "7334bad9",
   "metadata": {},
   "source": [
    "### Problem 3\n",
    "Fit an OLS regression (linear regression) using the statsmodels api where `y = df['Dp']` and `x = df['R']`. By default OLS estimates the theoretical mean of the dependent variable y. Statsmodels.ols does not fit a constant value by default so be sure to add a constant to `x`. Extract the coefficients into a variable named `res1_coefs`. See the documentation for `params`. Finally print the `summary()` of the model. \n",
    "\n",
    "Documentation: https://www.statsmodels.org/dev/generated/statsmodels.regression.linear_model.OLS.html"
   ]
  },
  {
   "cell_type": "code",
   "execution_count": 33,
   "id": "30e5d02a",
   "metadata": {},
   "outputs": [
    {
     "name": "stdout",
     "output_type": "stream",
     "text": [
      "                            OLS Regression Results                            \n",
      "==============================================================================\n",
      "Dep. Variable:                     Dp   R-squared:                       0.018\n",
      "Model:                            OLS   Adj. R-squared:                  0.009\n",
      "Method:                 Least Squares   F-statistic:                     1.954\n",
      "Date:                Sun, 26 Jun 2022   Prob (F-statistic):              0.165\n",
      "Time:                        11:01:14   Log-Likelihood:                 274.44\n",
      "No. Observations:                 107   AIC:                            -544.9\n",
      "Df Residuals:                     105   BIC:                            -539.5\n",
      "Df Model:                           1                                         \n",
      "Covariance Type:            nonrobust                                         \n",
      "==============================================================================\n",
      "                 coef    std err          t      P>|t|      [0.025      0.975]\n",
      "------------------------------------------------------------------------------\n",
      "const         -0.0031      0.008     -0.370      0.712      -0.020       0.014\n",
      "R              0.1545      0.111      1.398      0.165      -0.065       0.374\n",
      "==============================================================================\n",
      "Omnibus:                       11.018   Durbin-Watson:                   2.552\n",
      "Prob(Omnibus):                  0.004   Jarque-Bera (JB):                3.844\n",
      "Skew:                          -0.050   Prob(JB):                        0.146\n",
      "Kurtosis:                       2.077   Cond. No.                         61.2\n",
      "==============================================================================\n",
      "\n",
      "Notes:\n",
      "[1] Standard Errors assume that the covariance matrix of the errors is correctly specified.\n"
     ]
    },
    {
     "name": "stderr",
     "output_type": "stream",
     "text": [
      "C:\\Users\\jlowh\\anaconda3\\lib\\site-packages\\statsmodels\\tsa\\tsatools.py:142: FutureWarning: In a future version of pandas all arguments of concat except for the argument 'objs' will be keyword-only\n",
      "  x = pd.concat(x[::order], 1)\n"
     ]
    }
   ],
   "source": [
    "# your code here"
   ]
  },
  {
   "cell_type": "markdown",
   "id": "f630fe6c",
   "metadata": {},
   "source": [
    "### Probelm 4\n",
    "Fit a quantile regression model using the statsmodels api using the formula `Dp ~ R`. By default quantreg creates a constant so there is no need to add one to this model. In your `fit()` method be sure to set `q = 0.5` so that we are estimating the theoritical median.  Extract the coefficients into a variable named `res2_coefs`.  Finally print the `summary()` of the model. \n",
    "\n",
    "\n",
    "Documentation: https://www.statsmodels.org/dev/generated/statsmodels.regression.quantile_regression.QuantReg.html"
   ]
  },
  {
   "cell_type": "code",
   "execution_count": 31,
   "id": "4731c2e4",
   "metadata": {},
   "outputs": [
    {
     "name": "stdout",
     "output_type": "stream",
     "text": [
      "                         QuantReg Regression Results                          \n",
      "==============================================================================\n",
      "Dep. Variable:                     Dp   Pseudo R-squared:              0.02100\n",
      "Model:                       QuantReg   Bandwidth:                     0.02021\n",
      "Method:                 Least Squares   Sparsity:                      0.05748\n",
      "Date:                Sun, 26 Jun 2022   No. Observations:                  107\n",
      "Time:                        11:00:49   Df Residuals:                      105\n",
      "                                        Df Model:                            1\n",
      "==============================================================================\n",
      "                 coef    std err          t      P>|t|      [0.025      0.975]\n",
      "------------------------------------------------------------------------------\n",
      "Intercept     -0.0054      0.013     -0.417      0.677      -0.031       0.020\n",
      "R              0.1818      0.169      1.075      0.285      -0.153       0.517\n",
      "==============================================================================\n"
     ]
    },
    {
     "data": {
      "text/plain": [
       "Intercept   -0.005388\n",
       "R            0.181800\n",
       "dtype: float64"
      ]
     },
     "execution_count": 31,
     "metadata": {},
     "output_type": "execute_result"
    }
   ],
   "source": [
    "# your code here"
   ]
  },
  {
   "cell_type": "markdown",
   "id": "2d0d47d5",
   "metadata": {},
   "source": [
    "### Problem 5\n",
    "\n",
    "Part 1: Use the `type()` method to determine the type of `res1_coefs` and `res2_coefs`. Print the type in a Jupyter cell. \n",
    "\n",
    "Part 2: In the next Jupyter cell show that `res1_coefs > res2_coefs`. What does the error mean? To resolve this error we must convert the data to an unnamed object or change the names of the objects. Since we are not focusing on pandas this week we will simply convert to a different data type.\n",
    "\n",
    "Part 3: Now, do the same comparision using the `tolist()` function at the end of each object name. \n",
    "\n",
    "Part 4: We performed two types of linear regression and compared their coefficients. Coefficients are essentially the rate at which x changes the values of y. Do some research on what OLS estimates versus what quantreg estimates and explain why we have two different coefficient estimates. In which cases do you think quantile regression will be useful? What about ordinary least squares regression? "
   ]
  },
  {
   "cell_type": "code",
   "execution_count": null,
   "id": "554fbe9a",
   "metadata": {},
   "outputs": [],
   "source": [
    "# your code here"
   ]
  },
  {
   "cell_type": "markdown",
   "id": "a1ac1049",
   "metadata": {},
   "source": []
  }
 ],
 "metadata": {
  "kernelspec": {
   "display_name": "Python 3 (ipykernel)",
   "language": "python",
   "name": "python3"
  },
  "language_info": {
   "codemirror_mode": {
    "name": "ipython",
    "version": 3
   },
   "file_extension": ".py",
   "mimetype": "text/x-python",
   "name": "python",
   "nbconvert_exporter": "python",
   "pygments_lexer": "ipython3",
   "version": "3.11.8"
  }
 },
 "nbformat": 4,
 "nbformat_minor": 5
}
