{
 "cells": [
  {
   "cell_type": "markdown",
   "id": "88671a38",
   "metadata": {},
   "source": [
    "# Homework 5\n",
    "### Steven Simonsen\n",
    "### 4/7/2024"
   ]
  },
  {
   "cell_type": "markdown",
   "id": "822c38b0",
   "metadata": {},
   "source": [
    "Answer each question by writing the Python code needed to perform the task. Please only use the libraries requested in each problem. "
   ]
  },
  {
   "cell_type": "markdown",
   "id": "1aa4fe11-14bc-4871-82fe-fd2952753f68",
   "metadata": {},
   "source": [
    "### Problem 1\n",
    "Load the interest_inflation data from the statsmodels library as a pandas data frame assigned to `df`. Use the function `df.head()` to view the first 5 rows of the data. Notice the first observation is indexed at 0. Unlike R, Python is a 0 based index language which means when you iterate or wish to view the first observation of a data object it will be at the index 0. \n",
    "\n",
    "What do the columns `Dp` and `R` represent? (You can find this using the documentation)\n"
   ]
  },
  {
   "cell_type": "code",
   "execution_count": 19,
   "id": "83170312-116f-422b-a633-cca62b9159ed",
   "metadata": {},
   "outputs": [],
   "source": [
    "from statsmodels.datasets.interest_inflation.data import load_pandas"
   ]
  },
  {
   "cell_type": "code",
   "execution_count": 20,
   "id": "7fd6ddae-be1f-4c7f-b8f4-6e56fc684895",
   "metadata": {},
   "outputs": [],
   "source": [
    "df = load_pandas().data"
   ]
  },
  {
   "cell_type": "code",
   "execution_count": 21,
   "id": "88511f46-1380-4a83-a92d-5a0b30814086",
   "metadata": {},
   "outputs": [
    {
     "data": {
      "text/html": [
       "<div>\n",
       "<style scoped>\n",
       "    .dataframe tbody tr th:only-of-type {\n",
       "        vertical-align: middle;\n",
       "    }\n",
       "\n",
       "    .dataframe tbody tr th {\n",
       "        vertical-align: top;\n",
       "    }\n",
       "\n",
       "    .dataframe thead th {\n",
       "        text-align: right;\n",
       "    }\n",
       "</style>\n",
       "<table border=\"1\" class=\"dataframe\">\n",
       "  <thead>\n",
       "    <tr style=\"text-align: right;\">\n",
       "      <th></th>\n",
       "      <th>year</th>\n",
       "      <th>quarter</th>\n",
       "      <th>Dp</th>\n",
       "      <th>R</th>\n",
       "    </tr>\n",
       "  </thead>\n",
       "  <tbody>\n",
       "    <tr>\n",
       "      <th>0</th>\n",
       "      <td>1972.0</td>\n",
       "      <td>2.0</td>\n",
       "      <td>-0.003133</td>\n",
       "      <td>0.083</td>\n",
       "    </tr>\n",
       "    <tr>\n",
       "      <th>1</th>\n",
       "      <td>1972.0</td>\n",
       "      <td>3.0</td>\n",
       "      <td>0.018871</td>\n",
       "      <td>0.083</td>\n",
       "    </tr>\n",
       "    <tr>\n",
       "      <th>2</th>\n",
       "      <td>1972.0</td>\n",
       "      <td>4.0</td>\n",
       "      <td>0.024804</td>\n",
       "      <td>0.087</td>\n",
       "    </tr>\n",
       "    <tr>\n",
       "      <th>3</th>\n",
       "      <td>1973.0</td>\n",
       "      <td>1.0</td>\n",
       "      <td>0.016278</td>\n",
       "      <td>0.087</td>\n",
       "    </tr>\n",
       "    <tr>\n",
       "      <th>4</th>\n",
       "      <td>1973.0</td>\n",
       "      <td>2.0</td>\n",
       "      <td>0.000290</td>\n",
       "      <td>0.102</td>\n",
       "    </tr>\n",
       "  </tbody>\n",
       "</table>\n",
       "</div>"
      ],
      "text/plain": [
       "     year  quarter        Dp      R\n",
       "0  1972.0      2.0 -0.003133  0.083\n",
       "1  1972.0      3.0  0.018871  0.083\n",
       "2  1972.0      4.0  0.024804  0.087\n",
       "3  1973.0      1.0  0.016278  0.087\n",
       "4  1973.0      2.0  0.000290  0.102"
      ]
     },
     "execution_count": 21,
     "metadata": {},
     "output_type": "execute_result"
    }
   ],
   "source": [
    "df.head()"
   ]
  },
  {
   "cell_type": "code",
   "execution_count": 22,
   "id": "4eeb3df8-3581-4c3d-98f1-c0470357d3d6",
   "metadata": {},
   "outputs": [],
   "source": [
    "#Column Dp represents Delta log gdp deflator, and R represents the nominal long term interest rate"
   ]
  },
  {
   "cell_type": "markdown",
   "id": "724b3e2c",
   "metadata": {},
   "source": [
    "### Problem 2\n",
    "Import scipy as sp and numpy as np. Using the `mean()` and `var()` function from scipy, validate that both functions equate to their numpy counterparts against the column `Dp`.\n",
    "\n",
    "By using the scipy library you should receive a warning message. What does the warning message indicate? Which function should you use going forward? "
   ]
  },
  {
   "cell_type": "code",
   "execution_count": 23,
   "id": "83dc8d7f",
   "metadata": {},
   "outputs": [],
   "source": [
    "import numpy as np"
   ]
  },
  {
   "cell_type": "code",
   "execution_count": 24,
   "id": "6795d540-26ef-4580-ac02-833fc28dee4c",
   "metadata": {},
   "outputs": [],
   "source": [
    "import scipy as sp\n",
    "from scipy import stats"
   ]
  },
  {
   "cell_type": "code",
   "execution_count": 25,
   "id": "d2007e82-e6af-4a7c-b323-98a0c7df7aad",
   "metadata": {},
   "outputs": [
    {
     "data": {
      "text/plain": [
       "0.008397309906542055"
      ]
     },
     "execution_count": 25,
     "metadata": {},
     "output_type": "execute_result"
    }
   ],
   "source": [
    "np.mean(df['Dp'])"
   ]
  },
  {
   "cell_type": "code",
   "execution_count": 30,
   "id": "fb71bcb1-5795-44ff-a1d5-f1e63f491570",
   "metadata": {},
   "outputs": [
    {
     "ename": "AttributeError",
     "evalue": "Module 'scipy' has no attribute 'mean'",
     "output_type": "error",
     "traceback": [
      "\u001b[1;31m---------------------------------------------------------------------------\u001b[0m",
      "\u001b[1;31mKeyError\u001b[0m                                  Traceback (most recent call last)",
      "File \u001b[1;32m~\\anaconda3\\envs\\DSE5002\\Lib\\site-packages\\scipy\\__init__.py:150\u001b[0m, in \u001b[0;36m__getattr__\u001b[1;34m(name)\u001b[0m\n\u001b[0;32m    149\u001b[0m \u001b[38;5;28;01mtry\u001b[39;00m:\n\u001b[1;32m--> 150\u001b[0m     \u001b[38;5;28;01mreturn\u001b[39;00m \u001b[38;5;28mglobals\u001b[39m()[name]\n\u001b[0;32m    151\u001b[0m \u001b[38;5;28;01mexcept\u001b[39;00m \u001b[38;5;167;01mKeyError\u001b[39;00m:\n",
      "\u001b[1;31mKeyError\u001b[0m: 'mean'",
      "\nDuring handling of the above exception, another exception occurred:\n",
      "\u001b[1;31mAttributeError\u001b[0m                            Traceback (most recent call last)",
      "Cell \u001b[1;32mIn[30], line 2\u001b[0m\n\u001b[0;32m      1\u001b[0m \u001b[38;5;66;03m#Here is an example of the error I got when trying to print 'mean' directly from within scipy as of 4/10. See addl. explanation below.\u001b[39;00m\n\u001b[1;32m----> 2\u001b[0m sp\u001b[38;5;241m.\u001b[39mmean(df[\u001b[38;5;124m'\u001b[39m\u001b[38;5;124mDp\u001b[39m\u001b[38;5;124m'\u001b[39m])\n",
      "File \u001b[1;32m~\\anaconda3\\envs\\DSE5002\\Lib\\site-packages\\scipy\\__init__.py:152\u001b[0m, in \u001b[0;36m__getattr__\u001b[1;34m(name)\u001b[0m\n\u001b[0;32m    150\u001b[0m     \u001b[38;5;28;01mreturn\u001b[39;00m \u001b[38;5;28mglobals\u001b[39m()[name]\n\u001b[0;32m    151\u001b[0m \u001b[38;5;28;01mexcept\u001b[39;00m \u001b[38;5;167;01mKeyError\u001b[39;00m:\n\u001b[1;32m--> 152\u001b[0m     \u001b[38;5;28;01mraise\u001b[39;00m \u001b[38;5;167;01mAttributeError\u001b[39;00m(\n\u001b[0;32m    153\u001b[0m         \u001b[38;5;124mf\u001b[39m\u001b[38;5;124m\"\u001b[39m\u001b[38;5;124mModule \u001b[39m\u001b[38;5;124m'\u001b[39m\u001b[38;5;124mscipy\u001b[39m\u001b[38;5;124m'\u001b[39m\u001b[38;5;124m has no attribute \u001b[39m\u001b[38;5;124m'\u001b[39m\u001b[38;5;132;01m{\u001b[39;00mname\u001b[38;5;132;01m}\u001b[39;00m\u001b[38;5;124m'\u001b[39m\u001b[38;5;124m\"\u001b[39m\n\u001b[0;32m    154\u001b[0m     )\n",
      "\u001b[1;31mAttributeError\u001b[0m: Module 'scipy' has no attribute 'mean'"
     ]
    }
   ],
   "source": [
    "#Here is an example of the error I got when trying to print 'mean' directly from within scipy as of 4/10. See addl. explanation below.\n",
    "sp.mean(df['Dp'])"
   ]
  },
  {
   "cell_type": "code",
   "execution_count": 31,
   "id": "8c16fa6b-ceb5-41d9-b696-74624aae9ef5",
   "metadata": {},
   "outputs": [
    {
     "data": {
      "text/plain": [
       "0.008397309906542055"
      ]
     },
     "execution_count": 31,
     "metadata": {},
     "output_type": "execute_result"
    }
   ],
   "source": [
    "#Using tmean from stats to show equality\n",
    "stats.tmean(df['Dp'])"
   ]
  },
  {
   "cell_type": "code",
   "execution_count": 32,
   "id": "1b13a988-6c69-4f4e-a647-bb8910195458",
   "metadata": {},
   "outputs": [
    {
     "data": {
      "text/plain": [
       "True"
      ]
     },
     "execution_count": 32,
     "metadata": {},
     "output_type": "execute_result"
    }
   ],
   "source": [
    "np.mean(df['Dp'])==stats.tmean(df['Dp'])"
   ]
  },
  {
   "cell_type": "code",
   "execution_count": 33,
   "id": "38b911b1-1fbd-43c3-a8db-d08852a562f4",
   "metadata": {},
   "outputs": [
    {
     "ename": "AttributeError",
     "evalue": "Module 'scipy' has no attribute 'var'",
     "output_type": "error",
     "traceback": [
      "\u001b[1;31m---------------------------------------------------------------------------\u001b[0m",
      "\u001b[1;31mKeyError\u001b[0m                                  Traceback (most recent call last)",
      "File \u001b[1;32m~\\anaconda3\\envs\\DSE5002\\Lib\\site-packages\\scipy\\__init__.py:150\u001b[0m, in \u001b[0;36m__getattr__\u001b[1;34m(name)\u001b[0m\n\u001b[0;32m    149\u001b[0m \u001b[38;5;28;01mtry\u001b[39;00m:\n\u001b[1;32m--> 150\u001b[0m     \u001b[38;5;28;01mreturn\u001b[39;00m \u001b[38;5;28mglobals\u001b[39m()[name]\n\u001b[0;32m    151\u001b[0m \u001b[38;5;28;01mexcept\u001b[39;00m \u001b[38;5;167;01mKeyError\u001b[39;00m:\n",
      "\u001b[1;31mKeyError\u001b[0m: 'var'",
      "\nDuring handling of the above exception, another exception occurred:\n",
      "\u001b[1;31mAttributeError\u001b[0m                            Traceback (most recent call last)",
      "Cell \u001b[1;32mIn[33], line 1\u001b[0m\n\u001b[1;32m----> 1\u001b[0m sp\u001b[38;5;241m.\u001b[39mvar(df[\u001b[38;5;124m'\u001b[39m\u001b[38;5;124mDp\u001b[39m\u001b[38;5;124m'\u001b[39m])\n",
      "File \u001b[1;32m~\\anaconda3\\envs\\DSE5002\\Lib\\site-packages\\scipy\\__init__.py:152\u001b[0m, in \u001b[0;36m__getattr__\u001b[1;34m(name)\u001b[0m\n\u001b[0;32m    150\u001b[0m     \u001b[38;5;28;01mreturn\u001b[39;00m \u001b[38;5;28mglobals\u001b[39m()[name]\n\u001b[0;32m    151\u001b[0m \u001b[38;5;28;01mexcept\u001b[39;00m \u001b[38;5;167;01mKeyError\u001b[39;00m:\n\u001b[1;32m--> 152\u001b[0m     \u001b[38;5;28;01mraise\u001b[39;00m \u001b[38;5;167;01mAttributeError\u001b[39;00m(\n\u001b[0;32m    153\u001b[0m         \u001b[38;5;124mf\u001b[39m\u001b[38;5;124m\"\u001b[39m\u001b[38;5;124mModule \u001b[39m\u001b[38;5;124m'\u001b[39m\u001b[38;5;124mscipy\u001b[39m\u001b[38;5;124m'\u001b[39m\u001b[38;5;124m has no attribute \u001b[39m\u001b[38;5;124m'\u001b[39m\u001b[38;5;132;01m{\u001b[39;00mname\u001b[38;5;132;01m}\u001b[39;00m\u001b[38;5;124m'\u001b[39m\u001b[38;5;124m\"\u001b[39m\n\u001b[0;32m    154\u001b[0m     )\n",
      "\u001b[1;31mAttributeError\u001b[0m: Module 'scipy' has no attribute 'var'"
     ]
    }
   ],
   "source": [
    "sp.var(df['Dp'])"
   ]
  },
  {
   "cell_type": "code",
   "execution_count": 34,
   "id": "0f62ac8d-f227-4233-a15d-e17e53ca8420",
   "metadata": {},
   "outputs": [
    {
     "data": {
      "text/plain": [
       "0.00035296754186450404"
      ]
     },
     "execution_count": 34,
     "metadata": {},
     "output_type": "execute_result"
    }
   ],
   "source": [
    "np.var(df['Dp'])"
   ]
  },
  {
   "cell_type": "code",
   "execution_count": 35,
   "id": "eec5a886-06b9-4dc4-8919-29538c31a234",
   "metadata": {},
   "outputs": [
    {
     "data": {
      "text/plain": [
       "0.0003562974243349239"
      ]
     },
     "execution_count": 35,
     "metadata": {},
     "output_type": "execute_result"
    }
   ],
   "source": [
    "#Results are not exactly the same. Need to round in order to make statement true as seen below.\n",
    "stats.tvar(df['Dp'])"
   ]
  },
  {
   "cell_type": "code",
   "execution_count": 36,
   "id": "bb0d7b2c-fed6-4e70-b910-992533796808",
   "metadata": {},
   "outputs": [
    {
     "data": {
      "text/plain": [
       "True"
      ]
     },
     "execution_count": 36,
     "metadata": {},
     "output_type": "execute_result"
    }
   ],
   "source": [
    "np.round(np.var(df['Dp']),4)==round(stats.tvar(df['Dp']),4)"
   ]
  },
  {
   "cell_type": "code",
   "execution_count": 37,
   "id": "88f08ad4-67e9-4ee4-968c-2a67121c8bff",
   "metadata": {},
   "outputs": [],
   "source": [
    "#Update 4.10.24 - Although this worked earlier in the week, I'm now receiving error messages instead of warnings. To fix this, I read through the scipy\n",
    "#documentation for the version I'm using (1.11.4). Here, the 'mean' attribute does not exist. So instead, I used the tmean to show equality. \n",
    "#Although I don't get the intended warning anymore, this does resolve the hard error message I was receiving.\n",
    "\n",
    "#I did receive warnings. This means that the scipy functions used are still able to be used for now, but will be removed in SciPy version 2.0.0.\n",
    "#In preparation for this removal, I should use the numpy counterpart functions instead since I have proved both to produce identical results."
   ]
  },
  {
   "cell_type": "markdown",
   "id": "7334bad9",
   "metadata": {},
   "source": [
    "### Problem 3\n",
    "Fit an OLS regression (linear regression) using the statsmodels api where `y = df['Dp']` and `x = df['R']`. By default OLS estimates the theoretical mean of the dependent variable y. Statsmodels.ols does not fit a constant value by default so be sure to add a constant to `x`. Extract the coefficients into a variable named `res1_coefs`. See the documentation for `params`. Finally print the `summary()` of the model. \n",
    "\n",
    "Documentation: https://www.statsmodels.org/dev/generated/statsmodels.regression.linear_model.OLS.html"
   ]
  },
  {
   "cell_type": "code",
   "execution_count": 38,
   "id": "30e5d02a",
   "metadata": {},
   "outputs": [
    {
     "data": {
      "text/html": [
       "<table class=\"simpletable\">\n",
       "<caption>OLS Regression Results</caption>\n",
       "<tr>\n",
       "  <th>Dep. Variable:</th>           <td>Dp</td>        <th>  R-squared:         </th> <td>   0.018</td>\n",
       "</tr>\n",
       "<tr>\n",
       "  <th>Model:</th>                   <td>OLS</td>       <th>  Adj. R-squared:    </th> <td>   0.009</td>\n",
       "</tr>\n",
       "<tr>\n",
       "  <th>Method:</th>             <td>Least Squares</td>  <th>  F-statistic:       </th> <td>   1.954</td>\n",
       "</tr>\n",
       "<tr>\n",
       "  <th>Date:</th>             <td>Thu, 11 Apr 2024</td> <th>  Prob (F-statistic):</th>  <td> 0.165</td> \n",
       "</tr>\n",
       "<tr>\n",
       "  <th>Time:</th>                 <td>15:37:08</td>     <th>  Log-Likelihood:    </th> <td>  274.44</td>\n",
       "</tr>\n",
       "<tr>\n",
       "  <th>No. Observations:</th>      <td>   107</td>      <th>  AIC:               </th> <td>  -544.9</td>\n",
       "</tr>\n",
       "<tr>\n",
       "  <th>Df Residuals:</th>          <td>   105</td>      <th>  BIC:               </th> <td>  -539.5</td>\n",
       "</tr>\n",
       "<tr>\n",
       "  <th>Df Model:</th>              <td>     1</td>      <th>                     </th>     <td> </td>   \n",
       "</tr>\n",
       "<tr>\n",
       "  <th>Covariance Type:</th>      <td>nonrobust</td>    <th>                     </th>     <td> </td>   \n",
       "</tr>\n",
       "</table>\n",
       "<table class=\"simpletable\">\n",
       "<tr>\n",
       "    <td></td>       <th>coef</th>     <th>std err</th>      <th>t</th>      <th>P>|t|</th>  <th>[0.025</th>    <th>0.975]</th>  \n",
       "</tr>\n",
       "<tr>\n",
       "  <th>const</th> <td>   -0.0031</td> <td>    0.008</td> <td>   -0.370</td> <td> 0.712</td> <td>   -0.020</td> <td>    0.014</td>\n",
       "</tr>\n",
       "<tr>\n",
       "  <th>R</th>     <td>    0.1545</td> <td>    0.111</td> <td>    1.398</td> <td> 0.165</td> <td>   -0.065</td> <td>    0.374</td>\n",
       "</tr>\n",
       "</table>\n",
       "<table class=\"simpletable\">\n",
       "<tr>\n",
       "  <th>Omnibus:</th>       <td>11.018</td> <th>  Durbin-Watson:     </th> <td>   2.552</td>\n",
       "</tr>\n",
       "<tr>\n",
       "  <th>Prob(Omnibus):</th> <td> 0.004</td> <th>  Jarque-Bera (JB):  </th> <td>   3.844</td>\n",
       "</tr>\n",
       "<tr>\n",
       "  <th>Skew:</th>          <td>-0.050</td> <th>  Prob(JB):          </th> <td>   0.146</td>\n",
       "</tr>\n",
       "<tr>\n",
       "  <th>Kurtosis:</th>      <td> 2.077</td> <th>  Cond. No.          </th> <td>    61.2</td>\n",
       "</tr>\n",
       "</table><br/><br/>Notes:<br/>[1] Standard Errors assume that the covariance matrix of the errors is correctly specified."
      ],
      "text/latex": [
       "\\begin{center}\n",
       "\\begin{tabular}{lclc}\n",
       "\\toprule\n",
       "\\textbf{Dep. Variable:}    &        Dp        & \\textbf{  R-squared:         } &     0.018   \\\\\n",
       "\\textbf{Model:}            &       OLS        & \\textbf{  Adj. R-squared:    } &     0.009   \\\\\n",
       "\\textbf{Method:}           &  Least Squares   & \\textbf{  F-statistic:       } &     1.954   \\\\\n",
       "\\textbf{Date:}             & Thu, 11 Apr 2024 & \\textbf{  Prob (F-statistic):} &    0.165    \\\\\n",
       "\\textbf{Time:}             &     15:37:08     & \\textbf{  Log-Likelihood:    } &    274.44   \\\\\n",
       "\\textbf{No. Observations:} &         107      & \\textbf{  AIC:               } &    -544.9   \\\\\n",
       "\\textbf{Df Residuals:}     &         105      & \\textbf{  BIC:               } &    -539.5   \\\\\n",
       "\\textbf{Df Model:}         &           1      & \\textbf{                     } &             \\\\\n",
       "\\textbf{Covariance Type:}  &    nonrobust     & \\textbf{                     } &             \\\\\n",
       "\\bottomrule\n",
       "\\end{tabular}\n",
       "\\begin{tabular}{lcccccc}\n",
       "               & \\textbf{coef} & \\textbf{std err} & \\textbf{t} & \\textbf{P$> |$t$|$} & \\textbf{[0.025} & \\textbf{0.975]}  \\\\\n",
       "\\midrule\n",
       "\\textbf{const} &      -0.0031  &        0.008     &    -0.370  &         0.712        &       -0.020    &        0.014     \\\\\n",
       "\\textbf{R}     &       0.1545  &        0.111     &     1.398  &         0.165        &       -0.065    &        0.374     \\\\\n",
       "\\bottomrule\n",
       "\\end{tabular}\n",
       "\\begin{tabular}{lclc}\n",
       "\\textbf{Omnibus:}       & 11.018 & \\textbf{  Durbin-Watson:     } &    2.552  \\\\\n",
       "\\textbf{Prob(Omnibus):} &  0.004 & \\textbf{  Jarque-Bera (JB):  } &    3.844  \\\\\n",
       "\\textbf{Skew:}          & -0.050 & \\textbf{  Prob(JB):          } &    0.146  \\\\\n",
       "\\textbf{Kurtosis:}      &  2.077 & \\textbf{  Cond. No.          } &     61.2  \\\\\n",
       "\\bottomrule\n",
       "\\end{tabular}\n",
       "%\\caption{OLS Regression Results}\n",
       "\\end{center}\n",
       "\n",
       "Notes: \\newline\n",
       " [1] Standard Errors assume that the covariance matrix of the errors is correctly specified."
      ],
      "text/plain": [
       "<class 'statsmodels.iolib.summary.Summary'>\n",
       "\"\"\"\n",
       "                            OLS Regression Results                            \n",
       "==============================================================================\n",
       "Dep. Variable:                     Dp   R-squared:                       0.018\n",
       "Model:                            OLS   Adj. R-squared:                  0.009\n",
       "Method:                 Least Squares   F-statistic:                     1.954\n",
       "Date:                Thu, 11 Apr 2024   Prob (F-statistic):              0.165\n",
       "Time:                        15:37:08   Log-Likelihood:                 274.44\n",
       "No. Observations:                 107   AIC:                            -544.9\n",
       "Df Residuals:                     105   BIC:                            -539.5\n",
       "Df Model:                           1                                         \n",
       "Covariance Type:            nonrobust                                         \n",
       "==============================================================================\n",
       "                 coef    std err          t      P>|t|      [0.025      0.975]\n",
       "------------------------------------------------------------------------------\n",
       "const         -0.0031      0.008     -0.370      0.712      -0.020       0.014\n",
       "R              0.1545      0.111      1.398      0.165      -0.065       0.374\n",
       "==============================================================================\n",
       "Omnibus:                       11.018   Durbin-Watson:                   2.552\n",
       "Prob(Omnibus):                  0.004   Jarque-Bera (JB):                3.844\n",
       "Skew:                          -0.050   Prob(JB):                        0.146\n",
       "Kurtosis:                       2.077   Cond. No.                         61.2\n",
       "==============================================================================\n",
       "\n",
       "Notes:\n",
       "[1] Standard Errors assume that the covariance matrix of the errors is correctly specified.\n",
       "\"\"\""
      ]
     },
     "execution_count": 38,
     "metadata": {},
     "output_type": "execute_result"
    }
   ],
   "source": [
    "import statsmodels.api as sm\n",
    "y=df['Dp']\n",
    "x=df['R']\n",
    "x=sm.add_constant(x)\n",
    "model=sm.OLS(y,x)\n",
    "results=model.fit()\n",
    "res1_coefs=results.params\n",
    "results.summary()"
   ]
  },
  {
   "cell_type": "markdown",
   "id": "f630fe6c",
   "metadata": {},
   "source": [
    "### Probelm 4\n",
    "Fit a quantile regression model using the statsmodels api using the formula `Dp ~ R`. By default quantreg creates a constant so there is no need to add one to this model. In your `fit()` method be sure to set `q = 0.5` so that we are estimating the theoritical median.  Extract the coefficients into a variable named `res2_coefs`.  Finally print the `summary()` of the model. \n",
    "\n",
    "\n",
    "Documentation: https://www.statsmodels.org/dev/generated/statsmodels.regression.quantile_regression.QuantReg.html"
   ]
  },
  {
   "cell_type": "code",
   "execution_count": 39,
   "id": "4731c2e4",
   "metadata": {},
   "outputs": [
    {
     "name": "stdout",
     "output_type": "stream",
     "text": [
      "                         QuantReg Regression Results                          \n",
      "==============================================================================\n",
      "Dep. Variable:                     Dp   Pseudo R-squared:              0.02100\n",
      "Model:                       QuantReg   Bandwidth:                     0.02021\n",
      "Method:                 Least Squares   Sparsity:                      0.05748\n",
      "Date:                Thu, 11 Apr 2024   No. Observations:                  107\n",
      "Time:                        15:37:13   Df Residuals:                      105\n",
      "                                        Df Model:                            1\n",
      "==============================================================================\n",
      "                 coef    std err          t      P>|t|      [0.025      0.975]\n",
      "------------------------------------------------------------------------------\n",
      "Intercept     -0.0054      0.013     -0.417      0.677      -0.031       0.020\n",
      "R              0.1818      0.169      1.075      0.285      -0.153       0.517\n",
      "==============================================================================\n"
     ]
    }
   ],
   "source": [
    "import statsmodels.formula.api as smfi\n",
    "model=smfi.quantreg(\"Dp ~ R\", data=df)\n",
    "results=model.fit(q=0.5)\n",
    "res2_coefs=results.params\n",
    "print(results.summary())"
   ]
  },
  {
   "cell_type": "markdown",
   "id": "2d0d47d5",
   "metadata": {},
   "source": [
    "### Problem 5\n",
    "\n",
    "Part 1: Use the `type()` method to determine the type of `res1_coefs` and `res2_coefs`. Print the type in a Jupyter cell. \n",
    "\n",
    "Part 2: In the next Jupyter cell show that `res1_coefs > res2_coefs`. What does the error mean? To resolve this error we must convert the data to an unnamed object or change the names of the objects. Since we are not focusing on pandas this week we will simply convert to a different data type.\n",
    "\n",
    "Part 3: Now, do the same comparision using the `tolist()` function at the end of each object name. \n",
    "\n",
    "Part 4: We performed two types of linear regression and compared their coefficients. Coefficients are essentially the rate at which x changes the values of y. Do some research on what OLS estimates versus what quantreg estimates and explain why we have two different coefficient estimates. In which cases do you think quantile regression will be useful? What about ordinary least squares regression? "
   ]
  },
  {
   "cell_type": "code",
   "execution_count": 40,
   "id": "554fbe9a",
   "metadata": {},
   "outputs": [
    {
     "name": "stdout",
     "output_type": "stream",
     "text": [
      "<class 'pandas.core.series.Series'>\n",
      "<class 'pandas.core.series.Series'>\n"
     ]
    }
   ],
   "source": [
    "print(type(res1_coefs))\n",
    "print(type(res2_coefs))"
   ]
  },
  {
   "cell_type": "code",
   "execution_count": 41,
   "id": "af50c7a0-b168-4c8a-9146-3fe97b9a5bde",
   "metadata": {},
   "outputs": [
    {
     "ename": "ValueError",
     "evalue": "Can only compare identically-labeled Series objects",
     "output_type": "error",
     "traceback": [
      "\u001b[1;31m---------------------------------------------------------------------------\u001b[0m",
      "\u001b[1;31mValueError\u001b[0m                                Traceback (most recent call last)",
      "Cell \u001b[1;32mIn[41], line 1\u001b[0m\n\u001b[1;32m----> 1\u001b[0m res1_coefs \u001b[38;5;241m>\u001b[39m res2_coefs\n",
      "File \u001b[1;32m~\\anaconda3\\envs\\DSE5002\\Lib\\site-packages\\pandas\\core\\ops\\common.py:76\u001b[0m, in \u001b[0;36m_unpack_zerodim_and_defer.<locals>.new_method\u001b[1;34m(self, other)\u001b[0m\n\u001b[0;32m     72\u001b[0m             \u001b[38;5;28;01mreturn\u001b[39;00m \u001b[38;5;28mNotImplemented\u001b[39m\n\u001b[0;32m     74\u001b[0m other \u001b[38;5;241m=\u001b[39m item_from_zerodim(other)\n\u001b[1;32m---> 76\u001b[0m \u001b[38;5;28;01mreturn\u001b[39;00m method(\u001b[38;5;28mself\u001b[39m, other)\n",
      "File \u001b[1;32m~\\anaconda3\\envs\\DSE5002\\Lib\\site-packages\\pandas\\core\\arraylike.py:56\u001b[0m, in \u001b[0;36mOpsMixin.__gt__\u001b[1;34m(self, other)\u001b[0m\n\u001b[0;32m     54\u001b[0m \u001b[38;5;129m@unpack_zerodim_and_defer\u001b[39m(\u001b[38;5;124m\"\u001b[39m\u001b[38;5;124m__gt__\u001b[39m\u001b[38;5;124m\"\u001b[39m)\n\u001b[0;32m     55\u001b[0m \u001b[38;5;28;01mdef\u001b[39;00m \u001b[38;5;21m__gt__\u001b[39m(\u001b[38;5;28mself\u001b[39m, other):\n\u001b[1;32m---> 56\u001b[0m     \u001b[38;5;28;01mreturn\u001b[39;00m \u001b[38;5;28mself\u001b[39m\u001b[38;5;241m.\u001b[39m_cmp_method(other, operator\u001b[38;5;241m.\u001b[39mgt)\n",
      "File \u001b[1;32m~\\anaconda3\\envs\\DSE5002\\Lib\\site-packages\\pandas\\core\\series.py:6105\u001b[0m, in \u001b[0;36mSeries._cmp_method\u001b[1;34m(self, other, op)\u001b[0m\n\u001b[0;32m   6102\u001b[0m res_name \u001b[38;5;241m=\u001b[39m ops\u001b[38;5;241m.\u001b[39mget_op_result_name(\u001b[38;5;28mself\u001b[39m, other)\n\u001b[0;32m   6104\u001b[0m \u001b[38;5;28;01mif\u001b[39;00m \u001b[38;5;28misinstance\u001b[39m(other, Series) \u001b[38;5;129;01mand\u001b[39;00m \u001b[38;5;129;01mnot\u001b[39;00m \u001b[38;5;28mself\u001b[39m\u001b[38;5;241m.\u001b[39m_indexed_same(other):\n\u001b[1;32m-> 6105\u001b[0m     \u001b[38;5;28;01mraise\u001b[39;00m \u001b[38;5;167;01mValueError\u001b[39;00m(\u001b[38;5;124m\"\u001b[39m\u001b[38;5;124mCan only compare identically-labeled Series objects\u001b[39m\u001b[38;5;124m\"\u001b[39m)\n\u001b[0;32m   6107\u001b[0m lvalues \u001b[38;5;241m=\u001b[39m \u001b[38;5;28mself\u001b[39m\u001b[38;5;241m.\u001b[39m_values\n\u001b[0;32m   6108\u001b[0m rvalues \u001b[38;5;241m=\u001b[39m extract_array(other, extract_numpy\u001b[38;5;241m=\u001b[39m\u001b[38;5;28;01mTrue\u001b[39;00m, extract_range\u001b[38;5;241m=\u001b[39m\u001b[38;5;28;01mTrue\u001b[39;00m)\n",
      "\u001b[1;31mValueError\u001b[0m: Can only compare identically-labeled Series objects"
     ]
    }
   ],
   "source": [
    "res1_coefs > res2_coefs\n",
    "#After researching this error, I have found it occurs in Python because Pandas uses intrinsic data alignment, or indices to perform\n",
    "#Operations. Because these variables have different indices, I received the error message."
   ]
  },
  {
   "cell_type": "code",
   "execution_count": 42,
   "id": "40f3fc3b-c1b9-472d-bd32-65cde84e37a0",
   "metadata": {},
   "outputs": [
    {
     "data": {
      "text/plain": [
       "[-0.003126143768981994, 0.15451247409537258]"
      ]
     },
     "execution_count": 42,
     "metadata": {},
     "output_type": "execute_result"
    }
   ],
   "source": [
    "res1_coefs.tolist()"
   ]
  },
  {
   "cell_type": "code",
   "execution_count": 43,
   "id": "0862a2d6-612d-4ad6-856a-d73516e1982e",
   "metadata": {},
   "outputs": [
    {
     "data": {
      "text/plain": [
       "[-0.005388162484555814, 0.18179963970851887]"
      ]
     },
     "execution_count": 43,
     "metadata": {},
     "output_type": "execute_result"
    }
   ],
   "source": [
    "res2_coefs.tolist()"
   ]
  },
  {
   "cell_type": "code",
   "execution_count": 44,
   "id": "74c82607-a91e-472b-8ae4-3d27d01afc85",
   "metadata": {},
   "outputs": [
    {
     "data": {
      "text/plain": [
       "True"
      ]
     },
     "execution_count": 44,
     "metadata": {},
     "output_type": "execute_result"
    }
   ],
   "source": [
    "res1_coefs.tolist() > res2_coefs.tolist()"
   ]
  },
  {
   "cell_type": "code",
   "execution_count": 45,
   "id": "db7916d6-3c9d-4167-a970-0fbfeec84070",
   "metadata": {},
   "outputs": [],
   "source": [
    "#After watching the lectures and doing research, OLS estimates the mean and quant reg estimates quantiles, where q=0.5 is the median.\n",
    "#Therefore, the R coefficient effects the median in the quantile regression by 0.1818, and the R coefficient effects the mean in \n",
    "#the least squares linear regression by 0.1545. I think quantile regression would be useful for cases wheree there are significant\n",
    "#outliers, as the median is less sensitive to outliers in the data as opposed to the mean in OLS."
   ]
  },
  {
   "cell_type": "markdown",
   "id": "c0c8c7cd",
   "metadata": {},
   "source": [
    "### Problem 6\n",
    "What are the advantages of using Python as a general purpose programming language? What are the disadvantages? Why do you think data scientists and machine learning engineers prefer Python over other statistically focused languages like R? Your answer should a paragraph for: (1) advantages, (2) disadvantages, and (3) why its popular. Please cite each source used in your answer. "
   ]
  },
  {
   "cell_type": "markdown",
   "id": "a1ac1049",
   "metadata": {},
   "source": [
    "The advantages of using Python as a general purpose programming language are vast. For one, ths use of Python can be applied in to a wide range of use-cases. For example, If somebody wanted to build an online application that also contained mobile compatibility, Python would be a great choice. In fact, some of the largest companies within the consumer application space, such as Instagram, are built using Python. Another advantage to Python is the lightweight, compatible framework across operating systems. Python can be utilized using Linux, Windows, and MacOS. In large companies, numerous operating systems are common, and often necessary to perform various tasks in an optimized fashion. Therefore, it is incredibly beneficial that such a large programming language such as Python is cross-platform compatible. This brings me to another advantage to using the language, which is the large user base and following the language has. Python is an open source, and therefore has a large and active community that contributes to its development and provides support(1). For these attractive advantages, along with the versatility (ex: data analysis to application development and machine learning), I think this makes Python a popular choice among Data Scientists and Machine Learning Engineers.\n",
    "\n",
    "One of the disadvantages to using Python is that it is an interpreted language, which means that it can be slower than compiled languages like C or Java. This can be an issue for performance-intensive tasks(1). Additionally, because of the open source nature of the language, there is a very large number of libraries and packages to use. This can be a good thing, but also a disadvantage because it can lead to bugs and runtime errors if different people are using different versions of the same libararies and packages. Finally, the language is dynamically typed, which means that the types of variables can change at runtime. This can make it more difficult to catch errors and can lead to bugs(1).\n",
    "\n",
    "Overall, Python is a very popular language because of the flexibility it provides, and vast capability to do many of the functions necessary for data science and machine learning. Some of the biggest organizations in the world use Python for this reason, and in addition to Instagram mentioned above, Google, Yahoo, Samsung, Microsoft, and Facebook use it as well. This also further contributes to the popularity of the language, and increases the demand to resolve bugs and create new packages and libraries. In conclusion, the advantages to using Python far outwiegh the disadvantages, and in my opinion, it will be used widely for many years to come.\n",
    "\n",
    "\n",
    "Resources:\n",
    "1. GfG. (2023, November 1). Python language advantages and applications. GeeksforGeeks. https://www.geeksforgeeks.org/python-language-advantages-applications/ "
   ]
  }
 ],
 "metadata": {
  "kernelspec": {
   "display_name": "Python 3 (ipykernel)",
   "language": "python",
   "name": "python3"
  },
  "language_info": {
   "codemirror_mode": {
    "name": "ipython",
    "version": 3
   },
   "file_extension": ".py",
   "mimetype": "text/x-python",
   "name": "python",
   "nbconvert_exporter": "python",
   "pygments_lexer": "ipython3",
   "version": "3.11.8"
  }
 },
 "nbformat": 4,
 "nbformat_minor": 5
}
